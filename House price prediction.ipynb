{
 "cells": [
  {
   "cell_type": "code",
   "execution_count": null,
   "id": "b5c57bad-3c28-4962-a834-be5005cfb7f6",
   "metadata": {},
   "outputs": [],
   "source": [
    "import numpy as np\n",
    "import matplotlib.pyplot as plt\n",
    "from sklearn.datasets import make_regression"
   ]
  },
  {
   "cell_type": "code",
   "execution_count": null,
   "id": "6c649091-629a-44e2-b4d5-f3938e776dc5",
   "metadata": {},
   "outputs": [],
   "source": [
    "x,y = make_regression(n_samples=100, n_features=1, noise = 10, random_state = 42)\n"
   ]
  },
  {
   "cell_type": "code",
   "execution_count": null,
   "id": "795cb03e-40de-47b1-8979-7b4fedcfdb2e",
   "metadata": {},
   "outputs": [],
   "source": [
    "x"
   ]
  },
  {
   "cell_type": "code",
   "execution_count": null,
   "id": "16572260-9725-4185-86e0-5db506c155d1",
   "metadata": {},
   "outputs": [],
   "source": [
    "y"
   ]
  },
  {
   "cell_type": "code",
   "execution_count": null,
   "id": "a25ce1ef-dc40-4912-9100-0e7336fbb7be",
   "metadata": {},
   "outputs": [],
   "source": [
    "x.flatten()"
   ]
  },
  {
   "cell_type": "code",
   "execution_count": null,
   "id": "28f456a0-f7d5-42c5-8e37-e5884f77a282",
   "metadata": {},
   "outputs": [],
   "source": [
    "x=x.flatten()"
   ]
  },
  {
   "cell_type": "code",
   "execution_count": null,
   "id": "034ea56b-1315-4106-ae06-d407c8a682a8",
   "metadata": {},
   "outputs": [],
   "source": [
    "w = 0\n",
    "b = 0\n",
    "alpha = 0.01\n",
    "iterations = 1000"
   ]
  },
  {
   "cell_type": "code",
   "execution_count": null,
   "id": "b9d500a7-6c71-4bb2-98e4-2ae7ded5cd61",
   "metadata": {},
   "outputs": [],
   "source": [
    "def predictions(x,w,b):\n",
    "    return w * x + b\n",
    "\n",
    "def cost_function(y_true,y_pred):\n",
    "    return (np.mean((y_true - y_pred)**2))\n",
    "\n",
    "def gradient(x,y_true,y_pred):\n",
    "    m = len(x)\n",
    "    dw = -2/m * np.sum(x*(y_true - y_pred))\n",
    "    db = -2/m * np.sum(y_true - y_pred)\n",
    "    return dw,db"
   ]
  },
  {
   "cell_type": "code",
   "execution_count": null,
   "id": "eb573173-35b6-47ba-8c5b-7312d82e3b95",
   "metadata": {},
   "outputs": [],
   "source": [
    "costs = []\n",
    "for i in range(iterations):\n",
    "    y_pred = predictions(x , w, b)\n",
    "    cost = cost_function(y, y_pred)\n",
    "    dw,db = gradient(x, y , y_pred)\n",
    "\n",
    "    w-= alpha*dw\n",
    "    b-= alpha*db\n",
    "\n",
    "    costs.append(cost)\n",
    "    if i%100 == 0:\n",
    "        print(f\"Iteration {i} : Cost = {cost:.4f}, w = {w:.4f}, b = {b:.4f}\")\n",
    "        "
   ]
  },
  {
   "cell_type": "code",
   "execution_count": 2,
   "id": "bc264f9e-dee1-4da7-b4cd-05f8384bbfee",
   "metadata": {},
   "outputs": [
    {
     "ename": "NameError",
     "evalue": "name 'plt' is not defined",
     "output_type": "error",
     "traceback": [
      "\u001b[1;31m---------------------------------------------------------------------------\u001b[0m",
      "\u001b[1;31mNameError\u001b[0m                                 Traceback (most recent call last)",
      "Cell \u001b[1;32mIn[2], line 1\u001b[0m\n\u001b[1;32m----> 1\u001b[0m \u001b[43mplt\u001b[49m\u001b[38;5;241m.\u001b[39mscatter(x,y, label \u001b[38;5;241m=\u001b[39m\u001b[38;5;124m\"\u001b[39m\u001b[38;5;124mData\u001b[39m\u001b[38;5;124m\"\u001b[39m)\n\u001b[0;32m      2\u001b[0m plt\u001b[38;5;241m.\u001b[39mplot(x, predictions(x, w, b), c\u001b[38;5;241m=\u001b[39m\u001b[38;5;124m'\u001b[39m\u001b[38;5;124mr\u001b[39m\u001b[38;5;124m'\u001b[39m, label \u001b[38;5;241m=\u001b[39m \u001b[38;5;124m\"\u001b[39m\u001b[38;5;124mPredction line\u001b[39m\u001b[38;5;124m\"\u001b[39m)\n\u001b[0;32m      3\u001b[0m plt\u001b[38;5;241m.\u001b[39mtitle(\u001b[38;5;124m\"\u001b[39m\u001b[38;5;124mLinear Regression\u001b[39m\u001b[38;5;124m\"\u001b[39m)\n",
      "\u001b[1;31mNameError\u001b[0m: name 'plt' is not defined"
     ]
    }
   ],
   "source": [
    "plt.scatter(x,y, label =\"Data\")\n",
    "plt.plot(x, predictions(x, w, b), c='r', label = \"Predction line\")\n",
    "plt.title(\"Linear Regression\")\n",
    "plt.xlabel(\"Area\")\n",
    "plt.ylabel(\"Price\")\n",
    "plt.legend()\n",
    "plt.grid(True)\n",
    "plt.show()\n",
    "\n",
    "plt.plot(costs)\n",
    "plt.title(\"Cost Reduction over Iterations\")\n",
    "plt.xlabel(\"Iterations\")\n",
    "plt.ylabel(\"Cost\")\n",
    "plt.grid(True)\n",
    "plt.show()"
   ]
  },
  {
   "cell_type": "code",
   "execution_count": null,
   "id": "38fcd9ec-aac1-4616-8f0e-bdbe51f48c27",
   "metadata": {},
   "outputs": [],
   "source": []
  }
 ],
 "metadata": {
  "kernelspec": {
   "display_name": "Python 3 (ipykernel)",
   "language": "python",
   "name": "python3"
  },
  "language_info": {
   "codemirror_mode": {
    "name": "ipython",
    "version": 3
   },
   "file_extension": ".py",
   "mimetype": "text/x-python",
   "name": "python",
   "nbconvert_exporter": "python",
   "pygments_lexer": "ipython3",
   "version": "3.13.4"
  }
 },
 "nbformat": 4,
 "nbformat_minor": 5
}
